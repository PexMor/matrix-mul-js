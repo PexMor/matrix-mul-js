{
 "cells": [
  {
   "cell_type": "markdown",
   "id": "d30d1662",
   "metadata": {},
   "source": [
    "<a href=\"https://colab.research.google.com/github/PexMor/matrix-mul-js/blob/main/NiceMatrix.ipynb\" target=\"_parent\"><img src=\"https://colab.research.google.com/assets/colab-badge.svg\" alt=\"Open In Colab\"/></a>"
   ]
  },
  {
   "cell_type": "markdown",
   "id": "88f4dd69",
   "metadata": {},
   "source": [
    "# Nice MathJax for Matrices"
   ]
  },
  {
   "cell_type": "code",
   "execution_count": 1,
   "id": "48602248",
   "metadata": {},
   "outputs": [],
   "source": [
    "from IPython.display import Math\n",
    "from IPython.display import Markdown\n",
    "\n",
    "def sm_math(mat,mname=\"A\"):\n",
    "    latex = \"\"\n",
    "    latex += \"\\\\renewcommand{\\\\vec}[1]{\\\\boldsymbol{#1}}\\n\"\n",
    "    latex += \"\\\\renewcommand{\\\\matrix}[1]{\\\\boldsymbol{\\\\mathrm{#1}}}\\n\"\n",
    "    latex += \"\\\\newcommand{\\\\tensor}[1]{\\\\boldsymbol{\\mathrm{#1}}}\\n\"\n",
    "    if mname is not None:\n",
    "        latex += \"\\\\matrix{\"+mname+\"} = \"\n",
    "    latex += \"\\\\begin{bmatrix}\"\n",
    "    tmp_rows = list()\n",
    "    for rr in range(len(mat)):\n",
    "        tmp_rows.append(\" & \".join([(f'{item:.2f}').rstrip('0').rstrip('.') for item in mat[rr]]))\n",
    "    latex += \"\\\\\\\\\".join(tmp_rows)\n",
    "    latex += \"\\\\end{bmatrix}\"\n",
    "    return display(Math(latex))\n",
    "\n",
    "def sm_md(mat):\n",
    "    md = \"\"\n",
    "    md += \"\\\\begin{bmatrix}\"\n",
    "    tmp_rows = list()\n",
    "    for rr in range(len(mat)):\n",
    "        tmp_rows.append(\" & \".join([(f'{item:.2f}').rstrip('0').rstrip('.') for item in mat[rr]]))\n",
    "    md += \"\\\\\\\\\".join(tmp_rows)\n",
    "    md += \"\\\\end{bmatrix}\"\n",
    "    return display(Markdown(md))"
   ]
  },
  {
   "cell_type": "code",
   "execution_count": 2,
   "id": "733e69fe",
   "metadata": {},
   "outputs": [
    {
     "data": {
      "text/latex": [
       "$\\displaystyle \\renewcommand{\\vec}[1]{\\boldsymbol{#1}}\n",
       "\\renewcommand{\\matrix}[1]{\\boldsymbol{\\mathrm{#1}}}\n",
       "\\newcommand{\\tensor}[1]{\\boldsymbol{\\mathrm{#1}}}\n",
       "\\begin{bmatrix}2 & 3 & 4\\\\5 & 6 & 7\\\\20 & 7.98 & 6\\end{bmatrix}$"
      ],
      "text/plain": [
       "<IPython.core.display.Math object>"
      ]
     },
     "metadata": {},
     "output_type": "display_data"
    }
   ],
   "source": [
    "sm_math([[2,3,4],[5,6,7],[19.9999999999,7.9849999,6]],mname=None)"
   ]
  },
  {
   "cell_type": "code",
   "execution_count": 3,
   "id": "cc8735e9",
   "metadata": {},
   "outputs": [
    {
     "data": {
      "text/markdown": [
       "\\begin{bmatrix}2 & 3 & 4\\\\5 & 6 & 7\\\\20 & 7.98 & 6\\end{bmatrix}"
      ],
      "text/plain": [
       "<IPython.core.display.Markdown object>"
      ]
     },
     "metadata": {},
     "output_type": "display_data"
    }
   ],
   "source": [
    "sm_md([[2,3,4],[5,6,7],[19.9999999999,7.9849999,6]])"
   ]
  }
 ],
 "metadata": {
  "kernelspec": {
   "display_name": "Python 3 (ipykernel)",
   "language": "python",
   "name": "python3"
  },
  "language_info": {
   "codemirror_mode": {
    "name": "ipython",
    "version": 3
   },
   "file_extension": ".py",
   "mimetype": "text/x-python",
   "name": "python",
   "nbconvert_exporter": "python",
   "pygments_lexer": "ipython3",
   "version": "3.9.6"
  }
 },
 "nbformat": 4,
 "nbformat_minor": 5
}
