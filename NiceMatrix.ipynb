{
 "cells": [
  {
   "cell_type": "markdown",
   "id": "14ca11b1",
   "metadata": {},
   "source": [
    "# Mathjax inside Jupyter notebook\n",
    "\n",
    "tutorial at https://math.meta.stackexchange.com/questions/5020/mathjax-basic-tutorial-and-quick-reference\n",
    "\n",
    "watermark https://github.com/rasbt/watermark#installation-and-updating\n",
    "\n",
    "https://tex.stackexchange.com/questions/423462/matrix-multiplication-on-both-rows-is-badly-aligned\n",
    "\n",
    "https://cs.overleaf.com/learn/latex/List_of_Greek_letters_and_math_symbols"
   ]
  },
  {
   "cell_type": "code",
   "execution_count": 1,
   "id": "42e3b276",
   "metadata": {},
   "outputs": [
    {
     "name": "stdout",
     "output_type": "stream",
     "text": [
      "Compiler    : Clang 12.0.5 (clang-1205.0.22.9)\n",
      "OS          : Darwin\n",
      "Release     : 20.6.0\n",
      "Machine     : x86_64\n",
      "Processor   : i386\n",
      "CPU cores   : 8\n",
      "Architecture: 64bit\n",
      "\n",
      "Watermark: 2.2.0\n",
      "\n"
     ]
    }
   ],
   "source": [
    "%load_ext watermark\n",
    "%watermark -iv -i -w -m"
   ]
  },
  {
   "cell_type": "markdown",
   "id": "1ed715ad",
   "metadata": {},
   "source": [
    "# This is a header\n",
    "\n",
    "$lim(x) = 2.1 $\n",
    "\n",
    "$\\phi = \\begin{bmatrix} a & b \\\\ c & d \\end{bmatrix} \\times \\begin{bmatrix} v_0 & v_1 \\\\ v_2 & v_3 \\end{bmatrix}$"
   ]
  },
  {
   "cell_type": "code",
   "execution_count": 2,
   "id": "baba87d2",
   "metadata": {},
   "outputs": [
    {
     "data": {
      "text/markdown": [
       "#test\n",
       "\n",
       "$\\phi\n",
       "$\\begin{bmatrix} a & b \\\\ c & d \\end{bmatrix}\n"
      ],
      "text/plain": [
       "<IPython.core.display.Markdown object>"
      ]
     },
     "metadata": {},
     "output_type": "display_data"
    },
    {
     "data": {
      "text/latex": [
       "\\begin{bmatrix} a & b \\\\ c & d \\end{bmatrix}"
      ],
      "text/plain": [
       "<IPython.core.display.Latex object>"
      ]
     },
     "metadata": {},
     "output_type": "display_data"
    },
    {
     "data": {
      "text/markdown": [
       "$\\alpha \\times \\beta = \\begin{bmatrix} a & b \\\\ b & f \\end{bmatrix}$"
      ],
      "text/plain": [
       "<IPython.core.display.Markdown object>"
      ]
     },
     "metadata": {},
     "output_type": "display_data"
    }
   ],
   "source": [
    "from IPython.display import Markdown\n",
    "from IPython.display import Latex\n",
    "display(Markdown(\"#test\\n\\n$\\phi\\n$\\\\begin{bmatrix} a & b \\\\\\\\ c & d \\\\end{bmatrix}\\n\"))\n",
    "display(Latex(\"\\\\begin{bmatrix} a & b \\\\\\\\ c & d \\\\end{bmatrix}\"))\n",
    "display(Markdown(\"$\\\\alpha \\\\times \\\\beta = \\\\begin{bmatrix} a & b \\\\\\\\ b & f \\\\end{bmatrix}$\"))"
   ]
  },
  {
   "cell_type": "code",
   "execution_count": 16,
   "id": "ba551407",
   "metadata": {},
   "outputs": [],
   "source": [
    "from IPython.display import Math\n",
    "\n",
    "def sm(mat,mname=\"A\"):\n",
    "    latex = \"\"\n",
    "    latex += \"\\\\renewcommand{\\\\vec}[1]{\\\\boldsymbol{#1}}\\n\"\n",
    "    latex += \"\\\\renewcommand{\\\\matrix}[1]{\\\\boldsymbol{\\\\mathrm{#1}}}\\n\"\n",
    "    latex += \"\\\\newcommand{\\\\tensor}[1]{\\\\boldsymbol{\\mathrm{#1}}}\\n\"\n",
    "    if mname is not None:\n",
    "        latex += \"\\\\matrix{\"+mname+\"} = \"\n",
    "    latex += \"\\\\begin{bmatrix}\"\n",
    "    tmp_rows = list()\n",
    "    for rr in range(len(mat)):\n",
    "        tmp_rows.append(\" & \".join([(f'{item:.2f}').rstrip('0').rstrip('.') for item in mat[rr]]))\n",
    "    latex += \"\\\\\\\\\".join(tmp_rows)\n",
    "    latex += \"\\\\end{bmatrix}\"\n",
    "    return display(Math(latex))"
   ]
  },
  {
   "cell_type": "code",
   "execution_count": 17,
   "id": "ac4c729a",
   "metadata": {},
   "outputs": [
    {
     "data": {
      "text/latex": [
       "$\\displaystyle \\renewcommand{\\vec}[1]{\\boldsymbol{#1}}\n",
       "\\renewcommand{\\matrix}[1]{\\boldsymbol{\\mathrm{#1}}}\n",
       "\\newcommand{\\tensor}[1]{\\boldsymbol{\\mathrm{#1}}}\n",
       "\\begin{bmatrix}2 & 3 & 4\\\\5 & 6 & 7\\\\20 & 7.98 & 6\\end{bmatrix}$"
      ],
      "text/plain": [
       "<IPython.core.display.Math object>"
      ]
     },
     "metadata": {},
     "output_type": "display_data"
    }
   ],
   "source": [
    "sm([[2,3,4],[5,6,7],[19.9999999999,7.9849999,6]],mname=None)"
   ]
  }
 ],
 "metadata": {
  "kernelspec": {
   "display_name": "Python 3 (ipykernel)",
   "language": "python",
   "name": "python3"
  },
  "language_info": {
   "codemirror_mode": {
    "name": "ipython",
    "version": 3
   },
   "file_extension": ".py",
   "mimetype": "text/x-python",
   "name": "python",
   "nbconvert_exporter": "python",
   "pygments_lexer": "ipython3",
   "version": "3.9.6"
  }
 },
 "nbformat": 4,
 "nbformat_minor": 5
}
